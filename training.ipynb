{
 "cells": [
  {
   "cell_type": "markdown",
   "metadata": {},
   "source": [
    "Now that our dataset is ready, we will be using yolov8 model to train on our dataset and fine tune it for the model to predict damages in our road images"
   ]
  },
  {
   "cell_type": "code",
   "execution_count": 1,
   "metadata": {},
   "outputs": [
    {
     "name": "stdout",
     "output_type": "stream",
     "text": [
      "True\n",
      "1\n",
      "NVIDIA GeForce GTX 1660 Ti\n"
     ]
    }
   ],
   "source": [
    "#setting up cuda to make sure model runs on gpu\n",
    "import torch\n",
    "\n",
    "print(torch.cuda.is_available())\n",
    "print(torch.cuda.device_count())\n"
   ]
  },
  {
   "cell_type": "code",
   "execution_count": 5,
   "metadata": {},
   "outputs": [
    {
     "name": "stdout",
     "output_type": "stream",
     "text": [
      "NVIDIA GeForce GTX 1660 Ti\n"
     ]
    }
   ],
   "source": [
    "print(torch.cuda.get_device_name(0))\n"
   ]
  },
  {
   "cell_type": "code",
   "execution_count": 2,
   "metadata": {},
   "outputs": [
    {
     "name": "stderr",
     "output_type": "stream",
     "text": [
      "Ultralytics YOLOv8.0.184  Python-3.8.18 torch-2.0.1 CUDA:0 (NVIDIA GeForce GTX 1660 Ti, 6144MiB)\n",
      "Setup complete  (12 CPUs, 15.8 GB RAM, 157.2/244.1 GB disk)\n"
     ]
    }
   ],
   "source": [
    "from IPython import display\n",
    "display.clear_output()\n",
    "\n",
    "import ultralytics\n",
    "ultralytics.checks()"
   ]
  },
  {
   "cell_type": "code",
   "execution_count": 3,
   "metadata": {},
   "outputs": [],
   "source": [
    "from ultralytics import YOLO"
   ]
  },
  {
   "cell_type": "code",
   "execution_count": 8,
   "metadata": {},
   "outputs": [],
   "source": [
    "import os\n",
    "os.chdir(\"G:\\ml notebooks\\Road_RUL\\datasets\")"
   ]
  },
  {
   "cell_type": "code",
   "execution_count": 9,
   "metadata": {},
   "outputs": [
    {
     "data": {
      "text/plain": [
       "'G:\\\\ml notebooks\\\\Road_RUL\\\\datasets'"
      ]
     },
     "execution_count": 9,
     "metadata": {},
     "output_type": "execute_result"
    }
   ],
   "source": [
    "os.getcwd()"
   ]
  },
  {
   "cell_type": "code",
   "execution_count": 10,
   "metadata": {},
   "outputs": [
    {
     "name": "stdout",
     "output_type": "stream",
     "text": [
      "^C\n"
     ]
    }
   ],
   "source": [
    "!yolo task=detect mode=train model=yolov8m.pt data=data.yaml epochs=100 plots=True pretrained=True batch=16 patience=50 device=0"
   ]
  },
  {
   "cell_type": "code",
   "execution_count": 11,
   "metadata": {},
   "outputs": [
    {
     "name": "stderr",
     "output_type": "stream",
     "text": [
      "WARNING  Environment does not support cv2.imshow() or PIL Image.show()\n",
      "OpenCV(4.6.0) C:\\b\\abs_f8n1j3l9l0\\croot\\opencv-suite_1691622637237\\work\\modules\\highgui\\src\\window.cpp:1267: error: (-2:Unspecified error) The function is not implemented. Rebuild the library with Windows, GTK+ 2.x or Cocoa support. If you are on Ubuntu or Debian, install libgtk2.0-dev and pkg-config, then re-run cmake or configure script in function 'cvShowImage'\n",
      "\n",
      "\n",
      "image 1/1 G:\\ml notebooks\\Road_RUL\\datasets\\datasets\\test\\images\\China_Drone_000728.jpg: 640x640 1 D40, 86.2ms\n",
      "Speed: 11.0ms preprocess, 86.2ms inference, 57.0ms postprocess per image at shape (1, 3, 640, 640)\n",
      "Results saved to \u001b[1mruns\\detect\\predict\u001b[0m\n"
     ]
    },
    {
     "data": {
      "text/plain": [
       "[ultralytics.engine.results.Results object with attributes:\n",
       " \n",
       " boxes: ultralytics.engine.results.Boxes object\n",
       " keypoints: None\n",
       " masks: None\n",
       " names: {0: 'D00', 1: 'D40', 2: 'D10', 3: 'D20', 4: 'Repair', 5: 'Block crack', 6: 'D44', 7: 'D43', 8: 'D01', 9: 'D11', 10: 'D50', 11: 'D0w0'}\n",
       " orig_img: array([[[156, 154, 153],\n",
       "         [153, 151, 150],\n",
       "         [150, 148, 147],\n",
       "         ...,\n",
       "         [163, 164, 174],\n",
       "         [159, 160, 170],\n",
       "         [151, 153, 161]],\n",
       " \n",
       "        [[152, 150, 149],\n",
       "         [151, 149, 148],\n",
       "         [151, 149, 148],\n",
       "         ...,\n",
       "         [157, 158, 168],\n",
       "         [154, 156, 164],\n",
       "         [146, 148, 156]],\n",
       " \n",
       "        [[149, 147, 146],\n",
       "         [149, 147, 146],\n",
       "         [152, 150, 149],\n",
       "         ...,\n",
       "         [125, 126, 136],\n",
       "         [120, 122, 130],\n",
       "         [112, 114, 122]],\n",
       " \n",
       "        ...,\n",
       " \n",
       "        [[155, 153, 152],\n",
       "         [154, 152, 151],\n",
       "         [152, 150, 149],\n",
       "         ...,\n",
       "         [108, 112, 117],\n",
       "         [122, 125, 133],\n",
       "         [123, 126, 134]],\n",
       " \n",
       "        [[154, 152, 151],\n",
       "         [152, 150, 149],\n",
       "         [151, 149, 148],\n",
       "         ...,\n",
       "         [140, 144, 149],\n",
       "         [151, 155, 160],\n",
       "         [147, 151, 156]],\n",
       " \n",
       "        [[151, 149, 148],\n",
       "         [150, 148, 147],\n",
       "         [150, 148, 147],\n",
       "         ...,\n",
       "         [154, 158, 163],\n",
       "         [153, 157, 162],\n",
       "         [137, 141, 146]]], dtype=uint8)\n",
       " orig_shape: (512, 512)\n",
       " path: 'G:\\\\ml notebooks\\\\Road_RUL\\\\datasets\\\\datasets\\\\test\\\\images\\\\China_Drone_000728.jpg'\n",
       " probs: None\n",
       " save_dir: 'runs\\\\detect\\\\predict'\n",
       " speed: {'preprocess': 10.959148406982422, 'inference': 86.19213104248047, 'postprocess': 56.99658393859863}]"
      ]
     },
     "execution_count": 11,
     "metadata": {},
     "output_type": "execute_result"
    }
   ],
   "source": [
    "model = YOLO(\"G:/ml notebooks/Road_RUL/datasets/runs/detect/train3/weights/best.pt\")\n",
    "\n",
    "# Use the model to detect object - goat\n",
    "model.predict(source=\"G:/ml notebooks/Road_RUL/datasets/datasets/test/images/China_Drone_000728.jpg\", save=True, show=True)"
   ]
  },
  {
   "cell_type": "code",
   "execution_count": null,
   "metadata": {},
   "outputs": [],
   "source": []
  }
 ],
 "metadata": {
  "interpreter": {
   "hash": "377b4f1831a451850bc17c54efaf717a72893efa61b3f0f3297db47fe115df50"
  },
  "kernelspec": {
   "display_name": "Python 3.8.18 ('myenv')",
   "language": "python",
   "name": "python3"
  },
  "language_info": {
   "codemirror_mode": {
    "name": "ipython",
    "version": 3
   },
   "file_extension": ".py",
   "mimetype": "text/x-python",
   "name": "python",
   "nbconvert_exporter": "python",
   "pygments_lexer": "ipython3",
   "version": "3.8.18"
  },
  "orig_nbformat": 4
 },
 "nbformat": 4,
 "nbformat_minor": 2
}
